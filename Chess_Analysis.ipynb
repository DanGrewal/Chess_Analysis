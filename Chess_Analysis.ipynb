{
  "nbformat": 4,
  "nbformat_minor": 0,
  "metadata": {
    "kernelspec": {
      "display_name": "Python 3",
      "language": "python",
      "name": "python3"
    },
    "language_info": {
      "codemirror_mode": {
        "name": "ipython",
        "version": 3
      },
      "file_extension": ".py",
      "mimetype": "text/x-python",
      "name": "python",
      "nbconvert_exporter": "python",
      "pygments_lexer": "ipython3",
      "version": "3.8.3"
    },
    "colab": {
      "name": "Copy of Chess Analysis.ipynb",
      "provenance": []
    }
  },
  "cells": [
    {
      "cell_type": "code",
      "metadata": {
        "id": "jfiUN9p2N-iW"
      },
      "source": [
        "import pandas as pd\r\n",
        "pd.set_option('display.max_columns', None)\r\n",
        "pd.set_option('precision', 2)"
      ],
      "execution_count": 53,
      "outputs": []
    },
    {
      "cell_type": "code",
      "metadata": {
        "id": "XTHMO-oWN-iX"
      },
      "source": [
        "df = pd.read_csv('games.csv')"
      ],
      "execution_count": 54,
      "outputs": []
    },
    {
      "cell_type": "code",
      "metadata": {
        "id": "lB1FUFTZN-iY",
        "colab": {
          "base_uri": "https://localhost:8080/",
          "height": 191
        },
        "outputId": "3e87ef00-e1e9-41fb-ce48-e6e82d545a50"
      },
      "source": [
        "df.head()"
      ],
      "execution_count": 55,
      "outputs": [
        {
          "output_type": "execute_result",
          "data": {
            "text/html": [
              "<div>\n",
              "<style scoped>\n",
              "    .dataframe tbody tr th:only-of-type {\n",
              "        vertical-align: middle;\n",
              "    }\n",
              "\n",
              "    .dataframe tbody tr th {\n",
              "        vertical-align: top;\n",
              "    }\n",
              "\n",
              "    .dataframe thead th {\n",
              "        text-align: right;\n",
              "    }\n",
              "</style>\n",
              "<table border=\"1\" class=\"dataframe\">\n",
              "  <thead>\n",
              "    <tr style=\"text-align: right;\">\n",
              "      <th></th>\n",
              "      <th>id</th>\n",
              "      <th>rated</th>\n",
              "      <th>created_at</th>\n",
              "      <th>last_move_at</th>\n",
              "      <th>turns</th>\n",
              "      <th>victory_status</th>\n",
              "      <th>winner</th>\n",
              "      <th>increment_code</th>\n",
              "      <th>white_id</th>\n",
              "      <th>white_rating</th>\n",
              "      <th>black_id</th>\n",
              "      <th>black_rating</th>\n",
              "      <th>moves</th>\n",
              "      <th>opening_eco</th>\n",
              "      <th>opening_name</th>\n",
              "      <th>opening_ply</th>\n",
              "    </tr>\n",
              "  </thead>\n",
              "  <tbody>\n",
              "    <tr>\n",
              "      <th>0</th>\n",
              "      <td>TZJHLljE</td>\n",
              "      <td>False</td>\n",
              "      <td>1.50e+12</td>\n",
              "      <td>1.50e+12</td>\n",
              "      <td>13</td>\n",
              "      <td>outoftime</td>\n",
              "      <td>white</td>\n",
              "      <td>15+2</td>\n",
              "      <td>bourgris</td>\n",
              "      <td>1500</td>\n",
              "      <td>a-00</td>\n",
              "      <td>1191</td>\n",
              "      <td>d4 d5 c4 c6 cxd5 e6 dxe6 fxe6 Nf3 Bb4+ Nc3 Ba5...</td>\n",
              "      <td>D10</td>\n",
              "      <td>Slav Defense: Exchange Variation</td>\n",
              "      <td>5</td>\n",
              "    </tr>\n",
              "    <tr>\n",
              "      <th>1</th>\n",
              "      <td>l1NXvwaE</td>\n",
              "      <td>True</td>\n",
              "      <td>1.50e+12</td>\n",
              "      <td>1.50e+12</td>\n",
              "      <td>16</td>\n",
              "      <td>resign</td>\n",
              "      <td>black</td>\n",
              "      <td>5+10</td>\n",
              "      <td>a-00</td>\n",
              "      <td>1322</td>\n",
              "      <td>skinnerua</td>\n",
              "      <td>1261</td>\n",
              "      <td>d4 Nc6 e4 e5 f4 f6 dxe5 fxe5 fxe5 Nxe5 Qd4 Nc6...</td>\n",
              "      <td>B00</td>\n",
              "      <td>Nimzowitsch Defense: Kennedy Variation</td>\n",
              "      <td>4</td>\n",
              "    </tr>\n",
              "    <tr>\n",
              "      <th>2</th>\n",
              "      <td>mIICvQHh</td>\n",
              "      <td>True</td>\n",
              "      <td>1.50e+12</td>\n",
              "      <td>1.50e+12</td>\n",
              "      <td>61</td>\n",
              "      <td>mate</td>\n",
              "      <td>white</td>\n",
              "      <td>5+10</td>\n",
              "      <td>ischia</td>\n",
              "      <td>1496</td>\n",
              "      <td>a-00</td>\n",
              "      <td>1500</td>\n",
              "      <td>e4 e5 d3 d6 Be3 c6 Be2 b5 Nd2 a5 a4 c5 axb5 Nc...</td>\n",
              "      <td>C20</td>\n",
              "      <td>King's Pawn Game: Leonardis Variation</td>\n",
              "      <td>3</td>\n",
              "    </tr>\n",
              "    <tr>\n",
              "      <th>3</th>\n",
              "      <td>kWKvrqYL</td>\n",
              "      <td>True</td>\n",
              "      <td>1.50e+12</td>\n",
              "      <td>1.50e+12</td>\n",
              "      <td>61</td>\n",
              "      <td>mate</td>\n",
              "      <td>white</td>\n",
              "      <td>20+0</td>\n",
              "      <td>daniamurashov</td>\n",
              "      <td>1439</td>\n",
              "      <td>adivanov2009</td>\n",
              "      <td>1454</td>\n",
              "      <td>d4 d5 Nf3 Bf5 Nc3 Nf6 Bf4 Ng4 e3 Nc6 Be2 Qd7 O...</td>\n",
              "      <td>D02</td>\n",
              "      <td>Queen's Pawn Game: Zukertort Variation</td>\n",
              "      <td>3</td>\n",
              "    </tr>\n",
              "    <tr>\n",
              "      <th>4</th>\n",
              "      <td>9tXo1AUZ</td>\n",
              "      <td>True</td>\n",
              "      <td>1.50e+12</td>\n",
              "      <td>1.50e+12</td>\n",
              "      <td>95</td>\n",
              "      <td>mate</td>\n",
              "      <td>white</td>\n",
              "      <td>30+3</td>\n",
              "      <td>nik221107</td>\n",
              "      <td>1523</td>\n",
              "      <td>adivanov2009</td>\n",
              "      <td>1469</td>\n",
              "      <td>e4 e5 Nf3 d6 d4 Nc6 d5 Nb4 a3 Na6 Nc3 Be7 b4 N...</td>\n",
              "      <td>C41</td>\n",
              "      <td>Philidor Defense</td>\n",
              "      <td>5</td>\n",
              "    </tr>\n",
              "  </tbody>\n",
              "</table>\n",
              "</div>"
            ],
            "text/plain": [
              "         id  rated  created_at  last_move_at  turns victory_status winner  \\\n",
              "0  TZJHLljE  False    1.50e+12      1.50e+12     13      outoftime  white   \n",
              "1  l1NXvwaE   True    1.50e+12      1.50e+12     16         resign  black   \n",
              "2  mIICvQHh   True    1.50e+12      1.50e+12     61           mate  white   \n",
              "3  kWKvrqYL   True    1.50e+12      1.50e+12     61           mate  white   \n",
              "4  9tXo1AUZ   True    1.50e+12      1.50e+12     95           mate  white   \n",
              "\n",
              "  increment_code       white_id  white_rating      black_id  black_rating  \\\n",
              "0           15+2       bourgris          1500          a-00          1191   \n",
              "1           5+10           a-00          1322     skinnerua          1261   \n",
              "2           5+10         ischia          1496          a-00          1500   \n",
              "3           20+0  daniamurashov          1439  adivanov2009          1454   \n",
              "4           30+3      nik221107          1523  adivanov2009          1469   \n",
              "\n",
              "                                               moves opening_eco  \\\n",
              "0  d4 d5 c4 c6 cxd5 e6 dxe6 fxe6 Nf3 Bb4+ Nc3 Ba5...         D10   \n",
              "1  d4 Nc6 e4 e5 f4 f6 dxe5 fxe5 fxe5 Nxe5 Qd4 Nc6...         B00   \n",
              "2  e4 e5 d3 d6 Be3 c6 Be2 b5 Nd2 a5 a4 c5 axb5 Nc...         C20   \n",
              "3  d4 d5 Nf3 Bf5 Nc3 Nf6 Bf4 Ng4 e3 Nc6 Be2 Qd7 O...         D02   \n",
              "4  e4 e5 Nf3 d6 d4 Nc6 d5 Nb4 a3 Na6 Nc3 Be7 b4 N...         C41   \n",
              "\n",
              "                             opening_name  opening_ply  \n",
              "0        Slav Defense: Exchange Variation            5  \n",
              "1  Nimzowitsch Defense: Kennedy Variation            4  \n",
              "2   King's Pawn Game: Leonardis Variation            3  \n",
              "3  Queen's Pawn Game: Zukertort Variation            3  \n",
              "4                        Philidor Defense            5  "
            ]
          },
          "metadata": {
            "tags": []
          },
          "execution_count": 55
        }
      ]
    },
    {
      "cell_type": "markdown",
      "metadata": {
        "id": "PE1Ry1Gs4x5N"
      },
      "source": [
        "\r\n",
        "#What percent of games did white and black win"
      ]
    },
    {
      "cell_type": "code",
      "metadata": {
        "id": "qCGF0zDcN-iZ",
        "colab": {
          "base_uri": "https://localhost:8080/"
        },
        "outputId": "85b5a341-3251-45e8-8d4a-5bf3f1e23f74"
      },
      "source": [
        "whitewin = list(df['winner']).count('white') * 100 / len(df)\r\n",
        "blackwin = list(df['winner']).count('black') * 100 / len(df)\r\n",
        "draw = list(df['winner']).count('draw') * 100 / len(df)\r\n",
        "print ('white wins ' + str(whitewin) + ' percent of games, black wins ' + str(blackwin) + ' percent of games, and ' + str(draw) + ' percent of games are draws')"
      ],
      "execution_count": 103,
      "outputs": [
        {
          "output_type": "stream",
          "text": [
            "white wins 49.86040482600459 percent of games, black wins 45.403330342008175 percent of games, and 4.736264831987237 percent of games are draws\n"
          ],
          "name": "stdout"
        }
      ]
    },
    {
      "cell_type": "markdown",
      "metadata": {
        "id": "zPdXDnD253gF"
      },
      "source": [
        "# what is the average amount of turns for each victory status"
      ]
    },
    {
      "cell_type": "code",
      "metadata": {
        "id": "ygV0GSWnLyvx"
      },
      "source": [
        "avgvictor = df\r\n",
        "avgvictor = avgvictor[['turns','victory_status']]\r\n",
        "turns = list(avgvictor['turns'])\r\n",
        "victory_stats = list(avgvictor['victory_status'])\r\n",
        "outoftime = 0\r\n",
        "draw = 0\r\n",
        "resign = 0 \r\n",
        "mate = 0\r\n"
      ],
      "execution_count": 98,
      "outputs": []
    },
    {
      "cell_type": "code",
      "metadata": {
        "id": "UFMoVVDLQgWb"
      },
      "source": [
        "for x in range (0, len(victory_stats)):\n",
        "  if victory_stats[x] == 'mate':\n",
        "    mate += turns[x]\n",
        "  elif victory_stats[x] == 'resign':\n",
        "    resign += turns[x] \n",
        "  elif victory_stats[x] == 'draw':\n",
        "    draw += turns[x]\n",
        "  else: \n",
        "    outoftime += turns[x]\n"
      ],
      "execution_count": 100,
      "outputs": []
    },
    {
      "cell_type": "code",
      "metadata": {
        "id": "RaIPjNFLQgHR",
        "colab": {
          "base_uri": "https://localhost:8080/"
        },
        "outputId": "b005e7b4-4f89-4722-8290-9aa0e9619e69"
      },
      "source": [
        "print (str(mate/(victory_stats.count(\"mate\"))) + ' turns before checkmating')\r\n",
        "print (str(resign/(victory_stats.count(\"resign\"))) + ' turns before resigning')\r\n",
        "print (str(draw/(victory_stats.count(\"draw\"))) + ' turns before drawing')\r\n",
        "print (str(outoftime/(victory_stats.count(\"outoftime\"))) + ' turns before running out of time')"
      ],
      "execution_count": 101,
      "outputs": [
        {
          "output_type": "stream",
          "text": [
            "65.41501976284584 turns before checkmating\n",
            "53.91253251996053 turns before resigning\n",
            "83.78145695364239 turns before drawing\n",
            "72.74285714285715 turns before running out of time\n"
          ],
          "name": "stdout"
        }
      ]
    },
    {
      "cell_type": "markdown",
      "metadata": {
        "id": "MKFSDKSa8qN_"
      },
      "source": [
        "# Most common opening move"
      ]
    },
    {
      "cell_type": "code",
      "metadata": {
        "id": "huIMFzCNN-iZ"
      },
      "source": [
        "openingspossibilities = list(df['opening_name'])\r\n"
      ],
      "execution_count": 60,
      "outputs": []
    },
    {
      "cell_type": "code",
      "metadata": {
        "id": "D3DeNaUhLTiu"
      },
      "source": [
        "full_list = {}"
      ],
      "execution_count": 41,
      "outputs": []
    },
    {
      "cell_type": "code",
      "metadata": {
        "id": "rJsq6DJoN-iZ"
      },
      "source": [
        "for i in openingspossibilities:\r\n",
        "\tif i not in full_list.keys():\r\n",
        "\t\tfull_list[i] = 0\r\n",
        "\tfull_list[i] += 1"
      ],
      "execution_count": 42,
      "outputs": []
    },
    {
      "cell_type": "code",
      "metadata": {
        "id": "p3z_P8dDMaMA"
      },
      "source": [
        "d = max(list(full_list.values())) "
      ],
      "execution_count": 44,
      "outputs": []
    },
    {
      "cell_type": "code",
      "metadata": {
        "id": "-rvX8RVwN-ia",
        "colab": {
          "base_uri": "https://localhost:8080/"
        },
        "outputId": "c9b2d1d3-166f-4d37-b9be-e00103e4cc90"
      },
      "source": [
        "for opening, count in full_list.items():\r\n",
        "\tif count == d:\r\n",
        "\t\tprint('the most common opening is ' + opening + '!')\r\n",
        "print (\"it has been played \" + str(d) + \" times\")\r\n"
      ],
      "execution_count": 45,
      "outputs": [
        {
          "output_type": "stream",
          "text": [
            "the most common opening is Van't Kruijs Opening!\n",
            "it has been played 368 times\n"
          ],
          "name": "stdout"
        }
      ]
    },
    {
      "cell_type": "markdown",
      "metadata": {
        "id": "r4no8A38868w"
      },
      "source": [
        "# Unique number of players"
      ]
    },
    {
      "cell_type": "code",
      "metadata": {
        "colab": {
          "base_uri": "https://localhost:8080/"
        },
        "id": "TwG8KGkdMG8K",
        "outputId": "326b65a7-a29a-4431-a399-b661a51e62ab"
      },
      "source": [
        "x = len(df['id'].unique())\r\n"
      ],
      "execution_count": null,
      "outputs": [
        {
          "output_type": "stream",
          "text": [
            "19113\n"
          ],
          "name": "stdout"
        }
      ]
    },
    {
      "cell_type": "code",
      "metadata": {
        "colab": {
          "base_uri": "https://localhost:8080/"
        },
        "id": "PhGvnnuW6tWG",
        "outputId": "ef3b37f4-c936-40e3-a711-2e3abfa0183e"
      },
      "source": [
        "print (\"there are \" + str(x) + \" distinct players in the dataset\")"
      ],
      "execution_count": null,
      "outputs": [
        {
          "output_type": "stream",
          "text": [
            "there are 19113 distinct players in the dataset\n"
          ],
          "name": "stdout"
        }
      ]
    },
    {
      "cell_type": "markdown",
      "metadata": {
        "id": "42pRS_V4Cd5o"
      },
      "source": [
        "# Conclusions that can be made"
      ]
    },
    {
      "cell_type": "code",
      "metadata": {
        "id": "5cpanljGCcx3"
      },
      "source": [
        "wrat = list(df['white_rating'])\r\n",
        "brat = list(df['black_rating'])\r\n",
        "wrating = 0\r\n",
        "brating = 0"
      ],
      "execution_count": 104,
      "outputs": []
    },
    {
      "cell_type": "code",
      "metadata": {
        "colab": {
          "base_uri": "https://localhost:8080/"
        },
        "id": "u85oj0h0Ccpb",
        "outputId": "2df089ec-81ad-4e77-9707-a1d03b0aaa9e"
      },
      "source": [
        "for x in range (0,len(wrat)):\r\n",
        "  if wrat[x] > brat[x]:\r\n",
        "    wrating += 1\r\n",
        "  if wrat[x] < brat[x]:\r\n",
        "    brating += 1\r\n",
        "  \r\n",
        "print (\"White's rating is higher \" + str(wrating) + ' times and blacks rating is higher ' + str(brating) + ' times' )\r\n",
        "#this shows that more often than not the player playing on the white side has a higher rating. just a cool thing that was found\r\n",
        "\r\n"
      ],
      "execution_count": 105,
      "outputs": [
        {
          "output_type": "stream",
          "text": [
            "White's rating is higher 10184 times and blacks rating is higher 9671 times\n"
          ],
          "name": "stdout"
        }
      ]
    },
    {
      "cell_type": "code",
      "metadata": {
        "id": "YIThtR8NDh8I"
      },
      "source": [
        ""
      ],
      "execution_count": null,
      "outputs": []
    }
  ]
}